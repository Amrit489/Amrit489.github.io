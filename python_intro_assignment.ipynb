{
  "nbformat": 4,
  "nbformat_minor": 0,
  "metadata": {
    "colab": {
      "provenance": [],
      "authorship_tag": "ABX9TyM93D2AKoxa8wIUif1uJ3OI",
      "include_colab_link": true
    },
    "kernelspec": {
      "name": "python3",
      "display_name": "Python 3"
    },
    "language_info": {
      "name": "python"
    }
  },
  "cells": [
    {
      "cell_type": "markdown",
      "metadata": {
        "id": "view-in-github",
        "colab_type": "text"
      },
      "source": [
        "<a href=\"https://colab.research.google.com/github/Amrit489/Amrit489.github.io/blob/main/python_intro_assignment.ipynb\" target=\"_parent\"><img src=\"https://colab.research.google.com/assets/colab-badge.svg\" alt=\"Open In Colab\"/></a>"
      ]
    },
    {
      "cell_type": "code",
      "execution_count": null,
      "metadata": {
        "colab": {
          "base_uri": "https://localhost:8080/"
        },
        "id": "CnCkDI1BgHA0",
        "outputId": "532b6f41-c0be-46cb-f61e-bee4d683fa91"
      },
      "outputs": [
        {
          "output_type": "stream",
          "name": "stdout",
          "text": [
            "I am Amrit and I'm cool.\n"
          ]
        }
      ],
      "source": [
        "print(\"I am Amrit and I'm cool.\")"
      ]
    },
    {
      "cell_type": "markdown",
      "source": [
        "ADD TWO NUMBERS"
      ],
      "metadata": {
        "id": "8EMAUf_Oivkg"
      }
    },
    {
      "cell_type": "code",
      "source": [
        "num1=5\n",
        "num2=10\n",
        "result=num1+num2\n",
        "print(\"the sum is: \",result)"
      ],
      "metadata": {
        "id": "PCT7qNahghfA"
      },
      "execution_count": null,
      "outputs": []
    },
    {
      "cell_type": "markdown",
      "source": [
        "Concatenate 2 strings"
      ],
      "metadata": {
        "id": "o60EhmsAkUKE"
      }
    },
    {
      "cell_type": "code",
      "source": [
        "str1=\"hello\"\n",
        "str2=\"teacher\"\n",
        "result=str1+\" \"+str2\n",
        "print(\"The updated string: \",result)"
      ],
      "metadata": {
        "colab": {
          "base_uri": "https://localhost:8080/"
        },
        "id": "DJjBT_oJgfWB",
        "outputId": "4d9343b3-dd37-4442-dfd5-1af39d2a38f9"
      },
      "execution_count": null,
      "outputs": [
        {
          "output_type": "stream",
          "name": "stdout",
          "text": [
            "The updated string:  hello teacher\n"
          ]
        }
      ]
    },
    {
      "cell_type": "markdown",
      "source": [
        "Concatenate string and number"
      ],
      "metadata": {
        "id": "OCmuYG0XkqHi"
      }
    },
    {
      "cell_type": "code",
      "source": [
        "str1=\"Number: \"\n",
        "num=22\n",
        "result=str1+\" \"+str(num)\n",
        "print(\"The output: \",result)"
      ],
      "metadata": {
        "id": "538u6WyqktpD"
      },
      "execution_count": null,
      "outputs": []
    },
    {
      "cell_type": "markdown",
      "source": [
        "Positive, negative or zero"
      ],
      "metadata": {
        "id": "MHTvEonKlAsV"
      }
    },
    {
      "cell_type": "code",
      "source": [
        "num=int(input(\"Enter a number: \"))\n",
        "if num>0:\n",
        "  print(\"Positive\")\n",
        "elif num<0:\n",
        "  print(\"Negative\")\n",
        "else:\n",
        "  print(\"Zero\")"
      ],
      "metadata": {
        "colab": {
          "base_uri": "https://localhost:8080/"
        },
        "id": "8r2dTPOflFJO",
        "outputId": "3bdfecdc-91ba-47da-b98f-57dc81f1abdd"
      },
      "execution_count": null,
      "outputs": [
        {
          "output_type": "stream",
          "name": "stdout",
          "text": [
            "Enter a number: 4\n",
            "Positive\n"
          ]
        }
      ]
    },
    {
      "cell_type": "markdown",
      "source": [
        "Odd or Even"
      ],
      "metadata": {
        "id": "z88Dy2d3lo9b"
      }
    },
    {
      "cell_type": "code",
      "source": [
        "num=int(input(\"Enter a number: \"))\n",
        "if num % 2 == 0:\n",
        "    print(\"Even\")\n",
        "else:\n",
        "    print(\"Odd\")"
      ],
      "metadata": {
        "colab": {
          "base_uri": "https://localhost:8080/"
        },
        "id": "dE9320dlltW9",
        "outputId": "d4a08cf6-fe84-4640-85ac-4411ca1e04f6"
      },
      "execution_count": null,
      "outputs": [
        {
          "output_type": "stream",
          "name": "stdout",
          "text": [
            "Enter a number: 5\n",
            "Odd\n"
          ]
        }
      ]
    },
    {
      "cell_type": "markdown",
      "source": [
        "Number 1 to 10 (for loops)"
      ],
      "metadata": {
        "id": "U949cB3Sn09Z"
      }
    },
    {
      "cell_type": "code",
      "source": [
        "for i in range(1, 11):\n",
        "    print(i)"
      ],
      "metadata": {
        "id": "diWe_ckqoAqm"
      },
      "execution_count": null,
      "outputs": []
    },
    {
      "cell_type": "markdown",
      "source": [
        "1 to 10 (while loop)"
      ],
      "metadata": {
        "id": "eZyFVuRMoB1F"
      }
    },
    {
      "cell_type": "code",
      "source": [
        "i = 1\n",
        "while i <= 10:\n",
        "    print(i)\n",
        "    i += 1"
      ],
      "metadata": {
        "id": "rZp9w8vQoHfl"
      },
      "execution_count": null,
      "outputs": []
    },
    {
      "cell_type": "markdown",
      "source": [
        "sum of numbers 1 to 100"
      ],
      "metadata": {
        "id": "lroQlpNioKDq"
      }
    },
    {
      "cell_type": "code",
      "source": [
        "sum = 0\n",
        "for i in range(1, 101):\n",
        "    sum += i\n",
        "print(\"The sum is:\", sum)"
      ],
      "metadata": {
        "colab": {
          "base_uri": "https://localhost:8080/"
        },
        "id": "2E9iUBtUoNjn",
        "outputId": "10439194-d4ef-4131-c579-9db9f41dfd15"
      },
      "execution_count": null,
      "outputs": [
        {
          "output_type": "stream",
          "name": "stdout",
          "text": [
            "The sum is: 5050\n"
          ]
        }
      ]
    },
    {
      "cell_type": "markdown",
      "source": [
        "Find Largest and Smallest Numbers in a List"
      ],
      "metadata": {
        "id": "cfsa_MhroUC_"
      }
    },
    {
      "cell_type": "code",
      "source": [
        "numbers = [10, 20, 5, 40, 25]\n",
        "largest = max(numbers)\n",
        "smallest = min(numbers)\n",
        "print(\"Largest number:\", largest)\n",
        "print(\"Smallest number:\", smallest)"
      ],
      "metadata": {
        "id": "EvDfjAkBoYWx"
      },
      "execution_count": null,
      "outputs": []
    },
    {
      "cell_type": "markdown",
      "source": [
        "Retrieve Value from Dictionary"
      ],
      "metadata": {
        "id": "_lxBxETKokrk"
      }
    },
    {
      "cell_type": "code",
      "source": [
        "dict = {\"name\": \"Alice\", \"age\": 25, \"city\": \"New York\"}\n",
        "key = \"age\"\n",
        "if key in dict:\n",
        "    print(f\"The value for key '{key}' is:\", dict[key])\n",
        "else:\n",
        "    print(f\"Key '{key}' not found in dictionary.\")"
      ],
      "metadata": {
        "id": "vrJad8VJokWA"
      },
      "execution_count": null,
      "outputs": []
    },
    {
      "cell_type": "markdown",
      "source": [
        "Sort a List of Numbers"
      ],
      "metadata": {
        "id": "UoHaS5tOotEB"
      }
    },
    {
      "cell_type": "code",
      "source": [
        "numbers = [40, 10, 30, 20, 50]\n",
        "ascending = sorted(numbers)\n",
        "descending = sorted(numbers, reverse=True)\n",
        "print(\"Ascending order:\", ascending)\n",
        "print(\"Descending order:\", descending)"
      ],
      "metadata": {
        "id": "nzhicCs3okJN"
      },
      "execution_count": null,
      "outputs": []
    },
    {
      "cell_type": "markdown",
      "source": [
        "Merge Two Dictionaries"
      ],
      "metadata": {
        "id": "hgZkDMhLo0Zj"
      }
    },
    {
      "cell_type": "code",
      "source": [
        "dict1 = {\"a\": 1, \"b\": 2}\n",
        "dict2 = {\"c\": 3, \"d\": 4}\n",
        "merged_dict = {**dict1, **dict2}\n",
        "print(\"Merged dictionary:\", merged_dict)"
      ],
      "metadata": {
        "id": "6QvfVuB-o4u6"
      },
      "execution_count": null,
      "outputs": []
    },
    {
      "cell_type": "markdown",
      "source": [
        "Count Vowels in a String"
      ],
      "metadata": {
        "id": "TMyR1xseo7eL"
      }
    },
    {
      "cell_type": "code",
      "source": [
        "string = \"Hello World\"\n",
        "vowels = \"aeiouAEIOU\"\n",
        "count = sum(1 for char in string if char in vowels)\n",
        "print(\"Number of vowels:\", count)"
      ],
      "metadata": {
        "id": "La5a2eC2o-aM"
      },
      "execution_count": null,
      "outputs": []
    },
    {
      "cell_type": "markdown",
      "source": [
        "Reverse a String"
      ],
      "metadata": {
        "id": "Ir0ekb6ppBJt"
      }
    },
    {
      "cell_type": "code",
      "source": [
        "string = \"Hello World\"\n",
        "reversed_string = string[::-1]\n",
        "print(\"Reversed string:\", reversed_string)"
      ],
      "metadata": {
        "colab": {
          "base_uri": "https://localhost:8080/"
        },
        "id": "zQlol0ahpFn6",
        "outputId": "892e8f9b-4943-4d4d-e30e-78694b0f215e"
      },
      "execution_count": null,
      "outputs": [
        {
          "output_type": "stream",
          "name": "stdout",
          "text": [
            "Reversed string: dlroW olleH\n"
          ]
        }
      ]
    },
    {
      "cell_type": "markdown",
      "source": [
        "Check if String is Palindrome"
      ],
      "metadata": {
        "id": "UuaQ0ap7pITC"
      }
    },
    {
      "cell_type": "code",
      "source": [
        "string = \"radar\"\n",
        "is_palindrome = string == string[::-1]\n",
        "print(f\"'{string}' is a palindrome:\", is_palindrome)"
      ],
      "metadata": {
        "id": "afhPwmY5pJwP"
      },
      "execution_count": null,
      "outputs": []
    },
    {
      "cell_type": "markdown",
      "source": [
        "Create, Write, and Read Text File"
      ],
      "metadata": {
        "id": "FZ527v-gpMfw"
      }
    },
    {
      "cell_type": "code",
      "source": [
        "file_name = \"example.txt\"\n",
        "with open(file_name, \"w\") as file:\n",
        "    file.write(\"This is a sample text file.\")\n",
        "with open(file_name, \"r\") as file:\n",
        "    content = file.read()\n",
        "print(\"File content:\", content)"
      ],
      "metadata": {
        "colab": {
          "base_uri": "https://localhost:8080/"
        },
        "id": "2xsJ4HLYpPgg",
        "outputId": "49706805-cf98-4491-bcee-aff65c26d218"
      },
      "execution_count": null,
      "outputs": [
        {
          "output_type": "stream",
          "name": "stdout",
          "text": [
            "File content: This is a sample text file.\n"
          ]
        }
      ]
    },
    {
      "cell_type": "markdown",
      "source": [
        "Append Text to File"
      ],
      "metadata": {
        "id": "k9_8xILFpSHI"
      }
    },
    {
      "cell_type": "code",
      "source": [
        "file_name = \"example.txt\"\n",
        "with open(file_name, \"a\") as file:\n",
        "    file.write(\"\\nThis is additional text.\")\n",
        "with open(file_name, \"r\") as file:\n",
        "    updated_content = file.read()\n",
        "print(\"Updated file content:\", updated_content)"
      ],
      "metadata": {
        "colab": {
          "base_uri": "https://localhost:8080/"
        },
        "id": "5qHdtZvDpU9-",
        "outputId": "98568e0b-733b-4f7e-a6e5-df2571d4d1ed"
      },
      "execution_count": null,
      "outputs": [
        {
          "output_type": "stream",
          "name": "stdout",
          "text": [
            "Updated file content: \n",
            "This is additional text.\n"
          ]
        }
      ]
    },
    {
      "cell_type": "markdown",
      "source": [
        "Count Lines in a File"
      ],
      "metadata": {
        "id": "qf9APHkepXL4"
      }
    },
    {
      "cell_type": "code",
      "source": [
        "file_name = \"example.txt\"\n",
        "with open(file_name, \"r\") as file:\n",
        "    line_count = len(file.readlines())\n",
        "print(\"Number of lines in the file:\", line_count)"
      ],
      "metadata": {
        "id": "5DQ8FBTppZeP"
      },
      "execution_count": null,
      "outputs": []
    },
    {
      "cell_type": "markdown",
      "source": [
        "Handle Division by Zero"
      ],
      "metadata": {
        "id": "g5uRLvXStpPU"
      }
    },
    {
      "cell_type": "code",
      "source": [
        "try:\n",
        "    numerator = int(input(\"Enter numerator: \"))\n",
        "    denominator = int(input(\"Enter denominator: \"))\n",
        "    result = numerator / denominator\n",
        "    print(\"Result:\", result)\n",
        "except ZeroDivisionError:\n",
        "    print(\"Error: Division by zero is not allowed.\")"
      ],
      "metadata": {
        "id": "uqcmNC2itrP_"
      },
      "execution_count": null,
      "outputs": []
    },
    {
      "cell_type": "markdown",
      "source": [
        "Handle Invalid Input"
      ],
      "metadata": {
        "id": "4WTdMeDntuXd"
      }
    },
    {
      "cell_type": "code",
      "source": [
        "try:\n",
        "    number = int(input(\"Enter a number: \"))\n",
        "    print(\"You entered:\", number)\n",
        "except ValueError:\n",
        "    print(\"Error: Invalid input, please enter a number.\")"
      ],
      "metadata": {
        "id": "inz5mse8twxH"
      },
      "execution_count": null,
      "outputs": []
    },
    {
      "cell_type": "markdown",
      "source": [
        "Demonstrate Finally Block"
      ],
      "metadata": {
        "id": "gon9edMNtzI6"
      }
    },
    {
      "cell_type": "code",
      "source": [
        "try:\n",
        "    file = open(\"example.txt\", \"r\")\n",
        "    content = file.read()\n",
        "    print(\"File content:\", content)\n",
        "finally:\n",
        "    file.close()\n",
        "    print(\"File closed.\")"
      ],
      "metadata": {
        "id": "5OKlvZTNt2Lt"
      },
      "execution_count": null,
      "outputs": []
    },
    {
      "cell_type": "markdown",
      "source": [
        "Generate 5 Random Numbers"
      ],
      "metadata": {
        "id": "zbcqIJtft5R6"
      }
    },
    {
      "cell_type": "code",
      "source": [
        "import random\n",
        "for _ in range(5):\n",
        "    print(random.randint(1, 100))"
      ],
      "metadata": {
        "colab": {
          "base_uri": "https://localhost:8080/"
        },
        "id": "D-kV_Ndjt7vM",
        "outputId": "452ecd61-f608-4d5e-f78f-e7f7e7350a74"
      },
      "execution_count": null,
      "outputs": [
        {
          "output_type": "stream",
          "name": "stdout",
          "text": [
            "41\n",
            "93\n",
            "70\n",
            "45\n",
            "24\n"
          ]
        }
      ]
    },
    {
      "cell_type": "markdown",
      "source": [
        "Check if Random Number is Prime"
      ],
      "metadata": {
        "id": "tsDM1NZzuQFk"
      }
    },
    {
      "cell_type": "code",
      "source": [
        "import random\n",
        "\n",
        "def is_prime(num):\n",
        "    if num < 2:\n",
        "        return False\n",
        "    for i in range(2, int(num**0.5) + 1):\n",
        "        if num % i == 0:\n",
        "            return False\n",
        "    return True\n",
        "\n",
        "random_number = random.randint(1, 100)\n",
        "print(f\"Random number generated: {random_number}\")\n",
        "\n",
        "if is_prime(random_number):\n",
        "    print(f\"{random_number} is a prime number.\")\n",
        "else:\n",
        "    print(f\"{random_number} is not a prime number.\")\n"
      ],
      "metadata": {
        "id": "mdVOXoymuSQo"
      },
      "execution_count": null,
      "outputs": []
    },
    {
      "cell_type": "markdown",
      "source": [
        "Simulate Rolling a Die"
      ],
      "metadata": {
        "id": "oPDVGbm9uVOu"
      }
    },
    {
      "cell_type": "code",
      "source": [
        "import random\n",
        "\n",
        "def roll_die():\n",
        "    return random.randint(1, 6)\n",
        "print(\"Rolling the die...\")\n",
        "result = roll_die()\n",
        "print(f\"The die rolled: {result}\")"
      ],
      "metadata": {
        "colab": {
          "base_uri": "https://localhost:8080/"
        },
        "id": "VkvE7FHquXLu",
        "outputId": "211651fd-2336-48aa-9f5a-fcbc3eed187c"
      },
      "execution_count": null,
      "outputs": [
        {
          "output_type": "stream",
          "name": "stdout",
          "text": [
            "Rolling the die...\n",
            "The die rolled: 5\n"
          ]
        }
      ]
    },
    {
      "cell_type": "markdown",
      "source": [
        "Shuffle a List"
      ],
      "metadata": {
        "id": "Gbqi3jGIu5ND"
      }
    },
    {
      "cell_type": "code",
      "source": [
        "import random\n",
        "\n",
        "def shuffle_list(input_list):\n",
        "    shuffled = input_list[:]\n",
        "    random.shuffle(shuffled)\n",
        "    return shuffled\n",
        "original_list = [1, 2, 3, 4, 5, 6]\n",
        "print(\"Original List:\", original_list)\n",
        "shuffled_list = shuffle_list(original_list)\n",
        "print(\"Shuffled List:\", shuffled_list)\n"
      ],
      "metadata": {
        "id": "X0znSEVOu_bQ"
      },
      "execution_count": null,
      "outputs": []
    },
    {
      "cell_type": "markdown",
      "source": [
        "Randomly Select an Item from a List"
      ],
      "metadata": {
        "id": "c8QOW9LivC_Z"
      }
    },
    {
      "cell_type": "code",
      "source": [
        "import random\n",
        "\n",
        "def select_random_item(input_list):\n",
        "    return random.choice(input_list)\n",
        "items = [\"apple\", \"banana\", \"cherry\", \"date\", \"elderberry\"]\n",
        "random_item = select_random_item(items)\n",
        "print(f\"Randomly selected item: {random_item}\")\n"
      ],
      "metadata": {
        "id": "hGo3YvxyvUag"
      },
      "execution_count": null,
      "outputs": []
    },
    {
      "cell_type": "markdown",
      "source": [
        "Generate Random Password"
      ],
      "metadata": {
        "id": "HSsDPET-vYby"
      }
    },
    {
      "cell_type": "code",
      "source": [
        "import string\n",
        "length = 8\n",
        "password = ''.join(random.choices(string.ascii_letters + string.digits, k=length))\n",
        "print(\"Random password:\", password)"
      ],
      "metadata": {
        "id": "nP6MHujMvb7e"
      },
      "execution_count": null,
      "outputs": []
    },
    {
      "cell_type": "markdown",
      "source": [
        "Pick a Random Card from Deck"
      ],
      "metadata": {
        "id": "MLuftsw6vect"
      }
    },
    {
      "cell_type": "code",
      "source": [
        "import random\n",
        "\n",
        "def pick_random_card():\n",
        "    suits = [\"Hearts\", \"Diamonds\", \"Clubs\", \"Spades\"]\n",
        "    ranks = [\"2\", \"3\", \"4\", \"5\", \"6\", \"7\", \"8\", \"9\", \"10\", \"Jack\", \"Queen\", \"King\", \"Ace\"]\n",
        "    deck = [f\"{rank} of {suit}\" for suit in suits for rank in ranks]\n",
        "    return random.choice(deck)\n",
        "random_card = pick_random_card()\n",
        "print(f\"The random card is: {random_card}\")\n"
      ],
      "metadata": {
        "id": "8C7U9g0FvnNX"
      },
      "execution_count": null,
      "outputs": []
    },
    {
      "cell_type": "markdown",
      "source": [
        "Accept Two Numbers as Command-Line Arguments"
      ],
      "metadata": {
        "id": "zSmxv1rdvhbk"
      }
    },
    {
      "cell_type": "code",
      "source": [
        "import sys\n",
        "if len(sys.argv) == 3:\n",
        "    num1 = int(sys.argv[1])\n",
        "    num2 = int(sys.argv[2])\n",
        "    print(\"Sum:\", num1 + num2)\n",
        "else:\n",
        "    print(\"Please provide two numbers as arguments.\")"
      ],
      "metadata": {
        "id": "bitujFTlvwdD"
      },
      "execution_count": null,
      "outputs": []
    },
    {
      "cell_type": "markdown",
      "source": [
        "Accept String and Print Length"
      ],
      "metadata": {
        "id": "alBZVfSGvxd4"
      }
    },
    {
      "cell_type": "code",
      "source": [
        "import sys\n",
        "\n",
        "if len(sys.argv) == 2:\n",
        "    input_string = sys.argv[1]\n",
        "    print(\"Length of the string:\", len(input_string))\n",
        "else:\n",
        "    print(\"Please provide a string as an argument.\")\n"
      ],
      "metadata": {
        "id": "EB7S5Ep-vzbp"
      },
      "execution_count": null,
      "outputs": []
    },
    {
      "cell_type": "markdown",
      "source": [
        "Use Math Library"
      ],
      "metadata": {
        "id": "YH0mrtDnv95_"
      }
    },
    {
      "cell_type": "code",
      "source": [
        "import math\n",
        "number = 16\n",
        "print(\"Square root of\", number, \"is\", math.sqrt(number))"
      ],
      "metadata": {
        "id": "fvlKcNAiwBNs"
      },
      "execution_count": null,
      "outputs": []
    },
    {
      "cell_type": "markdown",
      "source": [
        "Use Datetime Library"
      ],
      "metadata": {
        "id": "0J67_kzzwDlx"
      }
    },
    {
      "cell_type": "code",
      "source": [
        "import datetime\n",
        "current_time = datetime.datetime.now()\n",
        "print(\"Current date and time:\", current_time)"
      ],
      "metadata": {
        "id": "S-ZnkBjMwFpA"
      },
      "execution_count": null,
      "outputs": []
    },
    {
      "cell_type": "markdown",
      "source": [
        "Use OS Library"
      ],
      "metadata": {
        "id": "Ljwn7vVCwHw9"
      }
    },
    {
      "cell_type": "code",
      "source": [
        "import os\n",
        "print(\"Files in current directory:\", os.listdir())"
      ],
      "metadata": {
        "id": "UQhEgKXMwJ-o"
      },
      "execution_count": null,
      "outputs": []
    }
  ]
}