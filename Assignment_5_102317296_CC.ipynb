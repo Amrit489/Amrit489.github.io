{
  "nbformat": 4,
  "nbformat_minor": 0,
  "metadata": {
    "colab": {
      "provenance": [],
      "authorship_tag": "ABX9TyM/Olmlk8YMz9rWvtaeMRYu",
      "include_colab_link": true
    },
    "kernelspec": {
      "name": "python3",
      "display_name": "Python 3"
    },
    "language_info": {
      "name": "python"
    }
  },
  "cells": [
    {
      "cell_type": "markdown",
      "metadata": {
        "id": "view-in-github",
        "colab_type": "text"
      },
      "source": [
        "<a href=\"https://colab.research.google.com/github/Amrit489/Amrit489.github.io/blob/main/Assignment_5_102317296_CC.ipynb\" target=\"_parent\"><img src=\"https://colab.research.google.com/assets/colab-badge.svg\" alt=\"Open In Colab\"/></a>"
      ]
    },
    {
      "cell_type": "markdown",
      "source": [
        "Q.1 For the array gfg = np.matrix('[4, 1, 9; 12, 3, 1; 4, 5, 6]'), Find\n",
        "i. Sum of all elements\n",
        "ii. Sum of all elements row-wise\n",
        "iii. Sum of all elements column-wise"
      ],
      "metadata": {
        "id": "I7JkGh8PYvlS"
      }
    },
    {
      "cell_type": "code",
      "execution_count": null,
      "metadata": {
        "id": "OqXzNNAWYtMu"
      },
      "outputs": [],
      "source": [
        "import numpy as np\n",
        "\n",
        "gfg = np.matrix('[4, 1, 9; 12, 3, 1; 4, 5, 6]')\n",
        "\n",
        "total_sum = np.sum(gfg)\n",
        "row_sum = np.sum(gfg, axis=1)\n",
        "col_sum = np.sum(gfg, axis=0)\n",
        "\n",
        "print(\"Sum of all elements:\", total_sum)\n",
        "print(\"Sum of all elements row-wise:\\n\", row_sum)\n",
        "print(\"Sum of all elements column-wise:\\n\", col_sum)"
      ]
    },
    {
      "cell_type": "markdown",
      "source": [
        "Q.2 (a)For the array: array = np.array([10, 52, 62, 16, 16, 54, 453]), find i. Sorted array\n",
        "ii. Indices of sorted array iii. 4 smallest elements iv. 5 largest elements\n",
        "(b) For the array: array = np.array([1.0, 1.2, 2.2, 2.0, 3.0, 2.0]), find i. Integer elements only\n",
        "ii. Float elements only"
      ],
      "metadata": {
        "id": "oXnwqAKyY2vV"
      }
    },
    {
      "cell_type": "code",
      "source": [
        "import numpy as np\n",
        "\n",
        "#a)\n",
        "array = np.array([10, 52, 62, 16, 16, 54, 453])\n",
        "\n",
        "sorted_array = np.sort(array)\n",
        "sorted_indices = np.argsort(array)\n",
        "smallest_4 = np.sort(array)[:4]\n",
        "largest_5 = np.sort(array)[-5:]\n",
        "\n",
        "print(\"Sorted array:\", sorted_array)\n",
        "print(\"Indices of sorted array:\", sorted_indices)\n",
        "print(\"4 smallest elements:\", smallest_4)\n",
        "print(\"5 largest elements:\", largest_5)\n",
        "\n",
        "#b)\n",
        "array_b = np.array([1.0, 1.2, 2.2, 2.0, 3.0, 2.0])\n",
        "\n",
        "int_elements = array_b[array_b == array_b.astype(int)]\n",
        "float_elements = array_b[array_b != array_b.astype(int)]\n",
        "\n",
        "print(\"Integer elements only:\", int_elements)\n",
        "print(\"Float elements only:\", float_elements)"
      ],
      "metadata": {
        "id": "DBc2upn1ZAhv"
      },
      "execution_count": null,
      "outputs": []
    },
    {
      "cell_type": "markdown",
      "source": [
        "Q.3 You are given a weekly sales dataset and need to perform various operations using NumPy broadcasting.\n",
        "a) Generate your unique sales dataset:\n",
        " Take the sum of the ASCII values of the initials of your first and last\n",
        "name. Call this value X. (If your initials are A B → ASCII sum = 65+ 66 = 131 → sales = [131, 181, 231, 281, 331].)\n",
        " Create a NumPy array sales with values [X, X+50, X+100, X+150, X+200].\n",
        "b) Compute your personalized tax rate as ((X % 5) + 5) / 100.\n",
        " Use broadcasting to apply this tax rate to each sales value.\n",
        "c) Adjust sales based on discount:\n",
        " If sales < X+100, apply a 5% discount.\n",
        " If sales >= X+100, apply a 10% discount.\n",
        "d) Expand sales data for multiple weeks:\n",
        " Create a 3×5 matrix representing three weeks of sales by stacking\n",
        "sales three times using broadcasting.\n",
        " Increase sales by 2% per week using element-wise broadcasting."
      ],
      "metadata": {
        "id": "Choi-MwaODXG"
      }
    },
    {
      "cell_type": "code",
      "source": [
        "import numpy as np\n",
        "\n",
        "first_initial = 'A'\n",
        "last_initial = 'B'\n",
        "\n",
        "X = ord(first_initial) + ord(last_initial)\n",
        "sales = np.array([X, X+50, X+100, X+150, X+200])\n",
        "\n",
        "tax_rate = ((X % 5) + 5) / 100\n",
        "sales_after_tax = sales * (1 - tax_rate)\n",
        "\n",
        "discounted_sales = np.where(sales < X+100, sales * 0.95, sales * 0.90)\n",
        "\n",
        "sales_matrix = np.vstack([sales] * 3)\n",
        "weeks = np.arange(3).reshape(-1, 1)\n",
        "weekly_sales = sales_matrix * (1.02 ** weeks)\n",
        "\n",
        "print(\"Original Sales Data:\", sales)\n",
        "print(\"Sales After Tax:\", sales_after_tax)\n",
        "print(\"Discounted Sales:\", discounted_sales)\n",
        "print(\"Weekly Sales Data:\\n\", weekly_sales)\n",
        "\n"
      ],
      "metadata": {
        "id": "HgdoWQyKhgp9"
      },
      "execution_count": null,
      "outputs": []
    },
    {
      "cell_type": "markdown",
      "source": [
        "Q4. Generate x values using np.linspace() from -10 to 10 with 100 points. Use each function from the list below and compute y values using NumPy:\n",
        " Y=x2\n",
        " Y = sin(x)\n",
        " Y=ex\n",
        " Y=log(|x|+1)\n",
        "Plot the chosen function using Matplotlib. Add title, labels, and grid for clarity."
      ],
      "metadata": {
        "id": "iCZrUNhvOYiT"
      }
    },
    {
      "cell_type": "code",
      "source": [
        "import numpy as np\n",
        "import matplotlib.pyplot as plt\n",
        "\n",
        "x = np.linspace(-10, 10, 100)\n",
        "\n",
        "y1 = x**2\n",
        "y2 = np.sin(x)\n",
        "y3 = np.exp(x)\n",
        "y4 = np.log(np.abs(x) + 1)\n",
        "\n",
        "plt.figure(figsize=(10, 6))\n",
        "\n",
        "plt.plot(x, y1, label=r'$y = x^2$', color='b')\n",
        "plt.plot(x, y2, label=r'$y = \\sin(x)$', color='r')\n",
        "plt.plot(x, y3, label=r'$y = e^x$', color='g')\n",
        "plt.plot(x, y4, label=r'$y = \\log(|x|+1)$', color='purple')\n",
        "\n",
        "plt.title(\"Plots of Different Functions\")\n",
        "plt.xlabel(\"X values\")\n",
        "plt.ylabel(\"Y values\")\n",
        "plt.legend()\n",
        "plt.grid(True)\n",
        "plt.show()\n"
      ],
      "metadata": {
        "id": "37_zMAeKOXge"
      },
      "execution_count": null,
      "outputs": []
    }
  ]
}