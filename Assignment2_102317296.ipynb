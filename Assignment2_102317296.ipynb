{
  "nbformat": 4,
  "nbformat_minor": 0,
  "metadata": {
    "colab": {
      "provenance": [],
      "authorship_tag": "ABX9TyPF5vWmraO5CmwbMbpdbvJz",
      "include_colab_link": true
    },
    "kernelspec": {
      "name": "python3",
      "display_name": "Python 3"
    },
    "language_info": {
      "name": "python"
    }
  },
  "cells": [
    {
      "cell_type": "markdown",
      "metadata": {
        "id": "view-in-github",
        "colab_type": "text"
      },
      "source": [
        "<a href=\"https://colab.research.google.com/github/Amrit489/Amrit489.github.io/blob/main/Assignment2_102317296.ipynb\" target=\"_parent\"><img src=\"https://colab.research.google.com/assets/colab-badge.svg\" alt=\"Open In Colab\"/></a>"
      ]
    },
    {
      "cell_type": "markdown",
      "source": [
        "1. Create a List L that is defined as= [10, 20, 30, 40, 50, 60, 70, 80].\n",
        "i. WAP to add 200 and 300 to L.\n",
        "ii. WAP to remove 10 and 30 from L.\n",
        "iii. WAP to sort L in ascending order.\n",
        "iv. WAP to sort L in descending order."
      ],
      "metadata": {
        "id": "lddPogwVyXSw"
      }
    },
    {
      "cell_type": "code",
      "execution_count": 1,
      "metadata": {
        "colab": {
          "base_uri": "https://localhost:8080/"
        },
        "id": "_3bJhr7EyWba",
        "outputId": "655a3c8f-fb0f-4287-8db4-def0aece8ea9"
      },
      "outputs": [
        {
          "output_type": "stream",
          "name": "stdout",
          "text": [
            "List after adding 200 and 300: [10, 20, 30, 40, 50, 60, 70, 80, 200, 300]\n",
            "List after removing 10 and 30: [20, 40, 50, 60, 70, 80, 200, 300]\n",
            "List in ascending order: [20, 40, 50, 60, 70, 80, 200, 300]\n",
            "List in descending order: [300, 200, 80, 70, 60, 50, 40, 20]\n"
          ]
        }
      ],
      "source": [
        "L = [10, 20, 30, 40, 50, 60, 70, 80]\n",
        "L.extend([200, 300])\n",
        "print(\"List after adding 200 and 300:\", L)\n",
        "\n",
        "L.remove(10)\n",
        "L.remove(30)\n",
        "print(\"List after removing 10 and 30:\", L)\n",
        "\n",
        "L.sort()\n",
        "print(\"List in ascending order:\", L)\n",
        "\n",
        "L.sort(reverse=True)\n",
        "print(\"List in descending order:\", L)"
      ]
    },
    {
      "cell_type": "markdown",
      "source": [
        "2. Create a tuple of marks scored as scores = (45, 89.5, 76, 45.4, 89, 92, 58, 45) and\n",
        "perform the following operations using tuple functions:\n",
        "i. Identify the highest score and its index in the tuple.\n",
        "ii. Find the lowest score and count how many times it appears.\n",
        "iii. Reverse the tuple and return it as a list.\n",
        "iv. Check if a specific score ‘76’ (input by the user) is present in the tuple and print its first occurrence index, or a message saying it’s not present."
      ],
      "metadata": {
        "id": "T0bNzIL5ycpd"
      }
    },
    {
      "cell_type": "code",
      "source": [
        "scores = (45, 89.5, 76, 45.4, 89, 92, 58, 45)\n",
        "highest_marks = max(scores)\n",
        "highest_index = scores.index(highest_marks)\n",
        "print(f\"Highest Marks: {highest_marks}, Index: {highest_index}\")\n",
        "\n",
        "lowest_marks = min(scores)\n",
        "lowest_count = scores.count(lowest_marks)\n",
        "print(f\"Lowest Marks: {lowest_marks}, Count: {lowest_count}\")\n",
        "\n",
        "reversed_list = list(scores[::-1])\n",
        "print(\"Reversed tuple as list:\", reversed_list)\n",
        "\n",
        "marks_to_check = 76\n",
        "if marks_to_check in scores:\n",
        "    print(f\"Score {marks_to_check} is present at index {scores.index(marks_to_check)}.\")\n",
        "else:\n",
        "    print(f\"Score {marks_to_check} is not present in the tuple.\")"
      ],
      "metadata": {
        "id": "M5DgP3xTz90C"
      },
      "execution_count": null,
      "outputs": []
    },
    {
      "cell_type": "markdown",
      "source": [
        "3. WAP to create a list of 100 random numbers between 100 and 900. Count and print\n",
        "the:\n",
        "i. All odd numbers\n",
        "ii. All even numbers\n",
        "iii. All prime numbers"
      ],
      "metadata": {
        "id": "g_5MLJ52ynAw"
      }
    },
    {
      "cell_type": "code",
      "source": [
        "import random\n",
        "\n",
        "random_num = [random.randint(100, 900) for _ in range(100)]\n",
        "odd_num = [num for num in random_num if num % 2 != 0]\n",
        "print(\"Odd numbers:\", odd_num)\n",
        "\n",
        "even_num = [num for num in random_num if num % 2 == 0]\n",
        "print(\"Even numbers:\", even_num)\n",
        "\n",
        "def is_prime(n):\n",
        "    if n < 2:\n",
        "        return False\n",
        "    for i in range(2, int(n ** 0.5) + 1):\n",
        "        if n % i == 0:\n",
        "            return False\n",
        "    return True\n",
        "\n",
        "prime_num = [num for num in random_num if is_prime(num)]\n",
        "print(\"Prime numbers:\", prime_num)\n"
      ],
      "metadata": {
        "id": "iQQa-AEW0sV4"
      },
      "execution_count": null,
      "outputs": []
    },
    {
      "cell_type": "markdown",
      "source": [
        "4. Consider the following two sets, A and B, representing scores of two teams in multiple\n",
        "matches. A = {34, 56, 78, 90} and B = {78, 45, 90, 23}\n",
        "WAP to perform the following operations using set functions:\n",
        "i. Find the unique scores achieved by both teams (union of sets).\n",
        "ii. Identify the scores that are common to both teams (intersection of sets).\n",
        "iii. Find the scores that are exclusive to each team (symmetric difference).\n",
        "iv. Check if the scores of team A are a subset of team B, and if team B's scores are a superset of team A.\n",
        "v. Remove a specific score X (input by the user) from set A if it exists. If not, print a message saying it is not present."
      ],
      "metadata": {
        "id": "lPBhLiwhyqY6"
      }
    },
    {
      "cell_type": "code",
      "source": [
        "A = {34, 56, 78, 90}\n",
        "B = {78, 45, 90, 23}\n",
        "\n",
        "unique_scores = A.union(B)\n",
        "print(\"Unique scores (Union):\", unique_scores)\n",
        "\n",
        "common_scores = A.intersection(B)\n",
        "print(\"Common scores (Intersection):\", common_scores)\n",
        "\n",
        "exclusive_scores = A.symmetric_difference(B)\n",
        "print(\"Exclusive scores (Symmetric Difference):\", exclusive_scores)\n",
        "\n",
        "is_subset = A.issubset(B)\n",
        "is_superset = B.issuperset(A)\n",
        "print(f\"A is a subset of B: {is_subset}\")\n",
        "print(f\"B is a superset of A: {is_superset}\")\n",
        "\n",
        "X = int(input(\"Enter a score to remove from A: \"))\n",
        "if X in A:\n",
        "    A.remove(X)\n",
        "    print(f\"Score {X} removed from A. Updated A:\", A)\n",
        "else:\n",
        "    print(f\"Score {X} is not present in A.\")\n"
      ],
      "metadata": {
        "id": "es_jDCDJ07Vh"
      },
      "execution_count": null,
      "outputs": []
    },
    {
      "cell_type": "markdown",
      "source": [
        "5. Write a program to rename a key city to a location in the following dictionary."
      ],
      "metadata": {
        "id": "bfsATRTz2KBN"
      }
    },
    {
      "cell_type": "code",
      "source": [
        "sample_dict = {\n",
        "    \"name\": \"Amrit\",\n",
        "    \"age\": 20,\n",
        "    \"salary\": 300000,\n",
        "    \"city\": \"Biratnagar\"\n",
        "}\n",
        "\n",
        "sample_dict[\"location\"] = sample_dict.pop(\"city\")\n",
        "\n",
        "print(sample_dict)\n"
      ],
      "metadata": {
        "colab": {
          "base_uri": "https://localhost:8080/"
        },
        "id": "TZhTL1DX13Re",
        "outputId": "88796f18-a8ca-4408-d438-3e979eae0eaa"
      },
      "execution_count": 2,
      "outputs": [
        {
          "output_type": "stream",
          "name": "stdout",
          "text": [
            "{'name': 'Amrit', 'age': 20, 'salary': 300000, 'location': 'Biratnagar'}\n"
          ]
        }
      ]
    }
  ]
}