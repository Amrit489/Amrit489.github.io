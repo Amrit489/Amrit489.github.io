{
  "nbformat": 4,
  "nbformat_minor": 0,
  "metadata": {
    "colab": {
      "provenance": [],
      "authorship_tag": "ABX9TyMZFjmT/Qd5zkfM2PvJ+/7/",
      "include_colab_link": true
    },
    "kernelspec": {
      "name": "python3",
      "display_name": "Python 3"
    },
    "language_info": {
      "name": "python"
    }
  },
  "cells": [
    {
      "cell_type": "markdown",
      "metadata": {
        "id": "view-in-github",
        "colab_type": "text"
      },
      "source": [
        "<a href=\"https://colab.research.google.com/github/Amrit489/Amrit489.github.io/blob/main/Assignment6_102317296_CC.ipynb\" target=\"_parent\"><img src=\"https://colab.research.google.com/assets/colab-badge.svg\" alt=\"Open In Colab\"/></a>"
      ]
    },
    {
      "cell_type": "markdown",
      "source": [
        "\n",
        "\n",
        "Q1. Ask the user to enter a value (e.g., M) for a mathematical function.\n",
        "a) Generate x values from -10 to 10 using np.linspace().\n",
        "b) Compute y values for:\n",
        "o y= M⋅x2\n",
        "o y=M⋅sin(x)\n",
        "c) Plot both functions in a single figure:\n",
        "o Use different colors and line styles.\n",
        "o Add legend, grid, and title.\n",
        "\n"
      ],
      "metadata": {
        "id": "0rgHjFBQ5Ety"
      }
    },
    {
      "cell_type": "code",
      "execution_count": null,
      "metadata": {
        "id": "UB1pmHPO5Boq"
      },
      "outputs": [],
      "source": [
        "import numpy as np\n",
        "import matplotlib.pyplot as plt\n",
        "M = float(input(\"Enter the value of M: \"))\n",
        "x = np.linspace(-10, 10, 100)\n",
        "y1 = M * x**2\n",
        "y2 = M * np.sin(x)\n",
        "plt.figure()\n",
        "plt.plot(x, y1, 'b-', label='y = M*x^2')\n",
        "plt.plot(x, y2, 'r--', label='y = M*sin(x)')\n",
        "plt.title('Mathematical Functions')\n",
        "plt.xlabel('x')\n",
        "plt.ylabel('y')\n",
        "plt.legend()\n",
        "plt.grid()\n",
        "plt.show()"
      ]
    },
    {
      "cell_type": "markdown",
      "source": [
        "Q.2 Create a dataset of five subjects and scores.\n",
        "a) Convert it into a Pandas DataFrame.\n",
        "b) Plot the scores using a Seaborn bar plot with:\n",
        "o Different colors for each bar.\n",
        "o Annotations on top of each bar. o Title, axis labels, and grid."
      ],
      "metadata": {
        "id": "Q4Z8Wnq35Qz_"
      }
    },
    {
      "cell_type": "code",
      "source": [
        "import pandas as pd\n",
        "import seaborn as sns\n",
        "import matplotlib.pyplot as plt\n",
        "data = {'Subject': ['Math', 'Physics', 'Chemistry', 'Biology', 'English'],\n",
        "        'Score': [85, 90, 78, 92, 88]}\n",
        "df = pd.DataFrame(data)\n",
        "sns.barplot(x='Subject', y='Score', data=df, palette='viridis')\n",
        "for i, score in enumerate(df['Score']):\n",
        "    plt.text(i, score + 1, str(score), ha='center')\n",
        "plt.title('Scores in Subjects')\n",
        "plt.xlabel('Subjects')\n",
        "plt.ylabel('Scores')\n",
        "plt.grid(True)\n",
        "plt.show()"
      ],
      "metadata": {
        "id": "ZNUxJrK75WOH"
      },
      "execution_count": null,
      "outputs": []
    },
    {
      "cell_type": "markdown",
      "source": [
        "Q3. Write a Python script to select your roll number as seed for NumPy and then generate a dataset of 50 values using np.random.randn().\n",
        "a) Create a 2x2 subplot layout displaying:\n",
        "o Line plot showing cumulative sum. o Scatter plot with random noise.\n",
        "b) Customize with titles, axis labels, and grids."
      ],
      "metadata": {
        "id": "laDTHHKW5Yvi"
      }
    },
    {
      "cell_type": "code",
      "source": [
        "import numpy as np\n",
        "import matplotlib.pyplot as plt\n",
        "np.random.seed(12345)  # Replace with your roll number\n",
        "values = np.random.randn(50)\n",
        "cumsum = np.cumsum(values)\n",
        "fig, axs = plt.subplots(2, 2)\n",
        "axs[0, 0].plot(cumsum)\n",
        "axs[0, 0].set_title('Cumulative Sum')\n",
        "axs[0, 0].grid(True)\n",
        "axs[1, 0].scatter(range(50), values)\n",
        "axs[1, 0].set_title('Scatter Plot with Noise')\n",
        "axs[1, 0].grid(True)\n",
        "plt.tight_layout()\n",
        "plt.show()"
      ],
      "metadata": {
        "id": "RxVCbMgu5fO4"
      },
      "execution_count": null,
      "outputs": []
    },
    {
      "cell_type": "markdown",
      "source": [
        "Q.4 Download Data-set from the below link\n",
        "https://github.com/AnjulaMehto/MCA/blob/main/company_sales_data.csv\n",
        "Apply ‘seaborn’ library to do the following.\n",
        "1. Read Total profit of all months and show it using a line plot.\n",
        "2. Read all product sales data and show it using a multiline plot.\n",
        "3. Plot bar chart for all the features/attributes"
      ],
      "metadata": {
        "id": "ifVJemRM5id9"
      }
    },
    {
      "cell_type": "code",
      "source": [
        "import pandas as pd\n",
        "import matplotlib.pyplot as plt\n",
        "url = 'https://raw.githubusercontent.com/AnjulaMehto/MCA/main/company_sales_data.csv'\n",
        "df_sales = pd.read_csv(url)\n",
        "plt.plot(df_sales['month_number'], df_sales['total_profit'], marker='o')\n",
        "plt.title('Total Profit Over Months')\n",
        "plt.xlabel('Month')\n",
        "plt.ylabel('Total Profit')\n",
        "plt.grid()\n",
        "plt.show()\n",
        "\n",
        "for column in df_sales.columns[1:]:\n",
        "    plt.plot(df_sales['month_number'], df_sales[column], label=column)\n",
        "plt.title('Product Sales Data')\n",
        "plt.xlabel('Month')\n",
        "plt.ylabel('Sales')\n",
        "plt.legend()\n",
        "plt.grid()\n",
        "plt.show()\n",
        "\n",
        "df_sales.drop('month_number', axis=1).plot(kind='bar')\n",
        "plt.title('Features/Attributes Bar Chart')\n",
        "plt.xlabel('Index')\n",
        "plt.ylabel('Values')\n",
        "plt.grid()\n",
        "plt.show()\n"
      ],
      "metadata": {
        "id": "EFLOPP075sLR"
      },
      "execution_count": null,
      "outputs": []
    }
  ]
}